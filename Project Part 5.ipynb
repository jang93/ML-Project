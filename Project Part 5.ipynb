{
 "cells": [
  {
   "cell_type": "code",
   "execution_count": 1,
   "metadata": {
    "collapsed": false
   },
   "outputs": [],
   "source": [
    "from collections import Counter\n",
    "from operator import itemgetter\n",
    "import copy\n",
    "\n",
    "def remove_tag(training_file): # generate train_no_tag file\n",
    "    f = open(training_file,\"r\",encoding=\"utf8\")\n",
    "    new_file = training_file+\"_perceptron_100\"\n",
    "    f1 = open(new_file,\"w+\",encoding=\"utf8\")\n",
    "    for line in f:\n",
    "        line = line.split()\n",
    "        if len(line)>1:\n",
    "            f1.write(line[0]+\"\\n\")\n",
    "        else:\n",
    "            f1.write(\"\\n\")\n",
    "\n",
    "    f.close()\n",
    "    f1.close()\n",
    "    return"
   ]
  },
  {
   "cell_type": "code",
   "execution_count": 2,
   "metadata": {
    "collapsed": true
   },
   "outputs": [],
   "source": [
    "def para(training_file): # output a dictionary of emission_parameter\n",
    "    cnt_y = Counter() # count the y tags\n",
    "    e_para = Counter() # count the y|x tags\n",
    "    t_para = Counter()\n",
    "    state = \"start\"\n",
    "    y0_y1 = \"\"\n",
    "    # init_e_para = Counter()\n",
    "    # init_t_para = Counter()\n",
    "    f = open(training_file, \"r\", encoding='utf8')\n",
    "    for line in f:\n",
    "        line = line.rstrip('\\n')\n",
    "        if (len(line) == 0):\n",
    "            y0_y1 = state + \" stop\"\n",
    "            state = \"stop\"\n",
    "        else:\n",
    "            e_para[line]+=1\n",
    "            line = line.split()[1]\n",
    "            y0_y1 = state + \" \" + line\n",
    "            state = line\n",
    "            cnt_y[line]+=1\n",
    "        t_para[y0_y1]+=1\n",
    "\n",
    "    for tag in cnt_y:\n",
    "        e_para[\"new_word \"+tag]=1\n",
    "\n",
    "    f.close()\n",
    "    return  e_para, t_para\n",
    "\n",
    "def init_para(training_file):\n",
    "    cnt_y = Counter() # count the y tags\n",
    "    e_para = Counter() # count the y|x tags\n",
    "    t_para = Counter()\n",
    "    state = \"start\"\n",
    "    y0_y1 = \"\"\n",
    "    # init_e_para = Counter()\n",
    "    # init_t_para = Counter()\n",
    "    f = open(training_file, \"r\", encoding='utf8')\n",
    "    for line in f:\n",
    "        line = line.rstrip('\\n')\n",
    "        if (line == \"\"):\n",
    "            y0_y1 = state + \" stop\"\n",
    "            state = \"stop\"\n",
    "        else:\n",
    "            e_para[line]=0\n",
    "            line = line.split()[1]\n",
    "            y0_y1 = state + \" \" + line\n",
    "            state = line\n",
    "            cnt_y[line]=0\n",
    "        t_para[y0_y1]=0\n",
    "\n",
    "    for tag in cnt_y:\n",
    "        e_para[\"new_word \"+tag]=0\n",
    "\n",
    "    f.close()\n",
    "    return  e_para, t_para"
   ]
  },
  {
   "cell_type": "code",
   "execution_count": 3,
   "metadata": {
    "collapsed": false
   },
   "outputs": [],
   "source": [
    "def test_phase_perceptron(test_file,emission_parameter,transition_parameter,top_k=1, run = 1):\n",
    "    tag = [\"O\",\"B-neutral\",\"B-positive\",\"B-negative\",\"I-neutral\",\"I-positive\",\"I-negative\"]\n",
    "    step_k = 1\n",
    "    v_label = \"O\"\n",
    "    u_label = \"start\"\n",
    "    optimal_value = -1\n",
    "    pi = [step_k,v_label,optimal_value,u_label]\n",
    "    sentence = []\n",
    "    output = []\n",
    "    list_u = [0,1,2,3,4,5,6]\n",
    "    dict_u = {}\n",
    "    state = (step_k, list_u)\n",
    "    data_x = set()\n",
    "    for entry in emission_parameter.keys():\n",
    "        entry = entry.split(' ')[0]\n",
    "        data_x.add(entry)\n",
    "\n",
    "\n",
    "    file_dir = test_file[:-3]+str(int(test_file[-3:])+run)\n",
    "    f = open(test_file, \"r\", encoding='utf8')\n",
    "    f1 = open(file_dir, \"w+\", encoding='utf8')\n",
    "\n",
    "    for line in f:\n",
    "        line = line.rstrip()\n",
    "        if line!=\"\":\n",
    "            for id_v,v in enumerate(tag):\n",
    "                best = -1\n",
    "                best_add = -1\n",
    "                for id_u,u in enumerate(state[1]): #enumerate list_u stored in state\n",
    "                    if(line in data_x):\n",
    "                        b_word = line + \" \" + v\n",
    "                        b_value = emission_parameter[b_word]\n",
    "                    else:\n",
    "                        b_word = \"new_word \" + v\n",
    "                        b_value = emission_parameter[b_word]\n",
    "\n",
    "                    if state[0] == 1:\n",
    "                        u_label = \"start\"\n",
    "                        uv_label = u_label+\" \" + v\n",
    "                        a_uv_value = transition_parameter[uv_label]\n",
    "                        optimal_value = a_uv_value+b_value\n",
    "\n",
    "                    else:\n",
    "                        u_label = u[1]\n",
    "                        uv_label = u_label + \" \" + v\n",
    "                        a_uv_value = transition_parameter[uv_label]\n",
    "                        optimal_value =  u[2] + a_uv_value + b_value\n",
    "\n",
    "                    if optimal_value>best:\n",
    "                        best = optimal_value\n",
    "                        pi = [step_k, v, best, u_label]\n",
    "\n",
    "                dict_u[(step_k,v)] = pi[3]\n",
    "                list_u[id_v] = pi\n",
    "\n",
    "            sentence.insert(0,line)\n",
    "            list_u2 = copy.deepcopy(list_u)\n",
    "            step_k+=1\n",
    "            state = (step_k,list_u2)\n",
    "\n",
    "        else: # when it reaches the empty line\n",
    "            best = -1\n",
    "            for id_u,u in enumerate(state[1]):\n",
    "                uv_label = u[1] + \" stop\"\n",
    "                a_uv_value = transition_parameter[uv_label]\n",
    "                optimal_value = u[2]+a_uv_value\n",
    "                pi = [state[0],\"stop\",optimal_value,u[1]]\n",
    "                list_u[id_u] = pi\n",
    "\n",
    "\n",
    "            list_u = sorted(list_u,key=itemgetter(2),reverse=True)  # arrange by descending order to choose top_k\n",
    "            u_label = list_u[top_k-1][3]\n",
    "            output.append(sentence[0]+\" \"+u_label+\"\\n\")\n",
    "\n",
    "            for i in range(1,len(sentence)): # back tracking to find the y_labels\n",
    "                search_key = (step_k-i,u_label)\n",
    "                u_label = dict_u[search_key]\n",
    "                output.insert(0,sentence[i]+\" \"+u_label+\"\\n\")\n",
    "\n",
    "            for i in output:\n",
    "                f1.write(i)\n",
    "            f1.write(\"\\n\")\n",
    "            sentence = []\n",
    "            output=[]\n",
    "            dict_u={}\n",
    "            step_k=1\n",
    "            state = (step_k,[0,1,2,3,4,5,6])\n",
    "    f1.close()\n",
    "    return \n"
   ]
  },
  {
   "cell_type": "code",
   "execution_count": 4,
   "metadata": {
    "collapsed": true
   },
   "outputs": [],
   "source": [
    "def update_para1(training_file, n = 3):\n",
    "    parameter1 = para(training_file)\n",
    "    e_c1 = copy.deepcopy(parameter1[0])\n",
    "    t_c1 = copy.deepcopy(parameter1[1])\n",
    "    init_parameter = init_para(training_file) #initialize epara and tpara to 0\n",
    "    e_para = copy.deepcopy(init_parameter[0])\n",
    "    t_para = copy.deepcopy(init_parameter[1])\n",
    "\n",
    "    remove_tag(training_file) # generate training file without tags\n",
    "    blank_file = training_file+\"_perceptron_100\"\n",
    "    for run_num in range(n):\n",
    "        print(\"Running %d of %d:\" %(run_num+1,n) )\n",
    "        test_phase_perceptron(blank_file,e_para,t_para,run = run_num+1) # generates prediction file\n",
    "        predicted_file = blank_file[:-3]+str(int(blank_file[-3:])+run_num+1)\n",
    "        parameter2 = para(predicted_file) # to get e_c2, t_c2\n",
    "        e_c2 = copy.deepcopy(parameter2[0])\n",
    "        t_c2 = copy.deepcopy(parameter2[1])\n",
    "        \n",
    "        # follow formula - e_para = e_para+c1-c2\n",
    "        e_para += e_c1  \n",
    "        e_para.subtract(e_c2)\n",
    "\n",
    "        t_para += t_c1\n",
    "        t_para.subtract(t_c2)\n",
    "\n",
    "    return e_para ,t_para"
   ]
  },
  {
   "cell_type": "code",
   "execution_count": 5,
   "metadata": {
    "collapsed": false
   },
   "outputs": [],
   "source": [
    "def update_para2(training_file,e_para,t_para, n = 3):\n",
    "    parameter1 = para(training_file)\n",
    "    e_c1 = copy.deepcopy(parameter1[0])\n",
    "    t_c1 = copy.deepcopy(parameter1[1])\n",
    "\n",
    "    remove_tag(training_file) # generate training file without tags\n",
    "    blank_file = training_file+\"_perceptron_100\"\n",
    "    for run_num in range(n):\n",
    "        print(\"Running %d of %d:\" %(run_num+1,n) )\n",
    "        test_phase_perceptron(blank_file,e_para,t_para,run = run_num+1)\n",
    "        predicted_file = blank_file[:-3]+str(int(blank_file[-3:])+run_num+1)\n",
    "        parameter2 = para(predicted_file)\n",
    "        e_c2 = copy.deepcopy(parameter2[0])\n",
    "        t_c2 = copy.deepcopy(parameter2[1])\n",
    "\n",
    "        e_para += e_c1\n",
    "        e_para.subtract(e_c2)\n",
    "\n",
    "        t_para += t_c1\n",
    "        t_para.subtract(t_c2)\n",
    "\n",
    "    return e_para ,t_para"
   ]
  },
  {
   "cell_type": "code",
   "execution_count": 6,
   "metadata": {
    "collapsed": false,
    "scrolled": true
   },
   "outputs": [
    {
     "name": "stdout",
     "output_type": "stream",
     "text": [
      "Running 1 of 3:\n",
      "Running 2 of 3:\n",
      "Running 3 of 3:\n",
      "[('O O', 7410), ('I-neutral O', 1398), ('B-neutral I-neutral', 954), ('O stop', 944), ('O B-positive', 936), ('B-positive O', 594), ('I-neutral I-neutral', 594), ('B-positive I-positive', 504), ('I-positive O', 468), ('O B-negative', 276)]\n",
      "[(', O', 230), ('the O', 201), ('. O', 187), ('to O', 182), (': O', 161), ('Facebook B-neutral', 145), ('I O', 125), ('! O', 117), ('... O', 115), ('a O', 113)]\n"
     ]
    }
   ],
   "source": [
    "training_file = \"D:\\\\Downloads\\\\School Stuff\\\\Term 6 Sep-Dec 16\\\\Machine Learning\\\\Project\\\\EN\\\\train\"\n",
    "test_file = \"D:\\\\Downloads\\\\School Stuff\\\\Term 6 Sep-Dec 16\\\\Machine Learning\\\\Project\\\\EN\\\\dev.in\"\n",
    "parameter = update_para1(training_file, n = 3)\n",
    "print (parameter[1].most_common(10))\n",
    "print(parameter[0].most_common(10))\n",
    "e_para = parameter[0]\n",
    "t_para = parameter[1]\n"
   ]
  },
  {
   "cell_type": "code",
   "execution_count": 8,
   "metadata": {
    "collapsed": false,
    "scrolled": true
   },
   "outputs": [
    {
     "name": "stdout",
     "output_type": "stream",
     "text": [
      "Running 1 of 10:\n",
      "Running 2 of 10:\n",
      "Running 3 of 10:\n",
      "Running 4 of 10:\n",
      "Running 5 of 10:\n",
      "Running 6 of 10:\n",
      "Running 7 of 10:\n",
      "Running 8 of 10:\n",
      "Running 9 of 10:\n",
      "Running 10 of 10:\n",
      "[('O O', 9347), ('O B-positive', 3656), ('B-neutral I-neutral', 3108), ('I-neutral O', 2796), ('B-positive O', 2574), ('I-neutral I-neutral', 2517), ('B-positive I-positive', 2184), ('I-positive O', 2028), ('O B-negative', 1196), ('B-negative O', 936)]\n",
      "[(', O', 650), ('Facebook B-neutral', 646), ('the O', 602), ('to O', 532), (': O', 492), ('... O', 415), ('a O', 374), ('. O', 370), ('I O', 340), ('and O', 337)]\n"
     ]
    }
   ],
   "source": [
    "e_para = parameter[0]\n",
    "t_para = parameter[1]\n",
    "parameter = update_para2(training_file, e_para, t_para,n=10)\n",
    "\n",
    "print (parameter[1].most_common(10))\n",
    "print(parameter[0].most_common(10))"
   ]
  },
  {
   "cell_type": "code",
   "execution_count": 71,
   "metadata": {
    "collapsed": false
   },
   "outputs": [
    {
     "name": "stdout",
     "output_type": "stream",
     "text": [
      "[('O O', 25720), ('O B-positive', 14032), ('B-positive I-positive', 13562), ('B-neutral I-neutral', 12138), ('I-neutral I-neutral', 11847), ('B-negative I-negative', 11593), ('I-positive O', 11473), ('B-neutral O', 11179), ('I-negative O', 10793), ('I-positive I-positive', 9997)]\n",
      "[('Facebook B-neutral', 13956), ('Twitter B-neutral', 8339), ('News I-neutral', 4461), ('Google B-neutral', 4406), (': O', 4201), ('to O', 3887), (', O', 3804), ('is O', 3609), ('the O', 3607), ('... O', 3589)]\n"
     ]
    }
   ],
   "source": []
  }
 ],
 "metadata": {
  "anaconda-cloud": {},
  "kernelspec": {
   "display_name": "Python [Root]",
   "language": "python",
   "name": "Python [Root]"
  },
  "language_info": {
   "codemirror_mode": {
    "name": "ipython",
    "version": 3
   },
   "file_extension": ".py",
   "mimetype": "text/x-python",
   "name": "python",
   "nbconvert_exporter": "python",
   "pygments_lexer": "ipython3",
   "version": "3.5.2"
  }
 },
 "nbformat": 4,
 "nbformat_minor": 0
}
